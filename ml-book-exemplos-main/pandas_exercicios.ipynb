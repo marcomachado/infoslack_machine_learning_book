{
  "cells": [
    {
      "cell_type": "markdown",
      "metadata": {
        "id": "0xw3J_IeVyq3"
      },
      "source": [
        "## Prática\n",
        "\n",
        "Este notebook serve para você praticar o que viu no livro.\n",
        "\n",
        "Pode haver mais de uma maneira diferente de completar um exercício.\n",
        "\n",
        "Os exercícios são baseados no conteúdo do livro.\n",
        "\n",
        "Para mais referências e recursos, fica a sugestão de consultar a [documentação do Pandas.](https://pandas.pydata.org/pandas-docs/stable/)"
      ]
    },
    {
      "cell_type": "code",
      "execution_count": 1,
      "metadata": {
        "id": "X1Q0xVaxVr9V"
      },
      "outputs": [],
      "source": [
        "# Importe o pandas"
      ]
    },
    {
      "cell_type": "code",
      "execution_count": 2,
      "metadata": {
        "id": "rlErNlrPWo_7"
      },
      "outputs": [],
      "source": [
        "# Crie uma Série com 3 cores diferentes"
      ]
    },
    {
      "cell_type": "code",
      "execution_count": 3,
      "metadata": {
        "id": "FhyqncTiWuxA"
      },
      "outputs": [],
      "source": [
        "# Visualize os dados criados na Série"
      ]
    },
    {
      "cell_type": "code",
      "execution_count": 4,
      "metadata": {
        "id": "IH4Tb4fhW2VB"
      },
      "outputs": [],
      "source": [
        "# Crie uma Série com 3 tipos de fabricantes de carro"
      ]
    },
    {
      "cell_type": "code",
      "execution_count": 5,
      "metadata": {
        "id": "YAugkW1EW9EI"
      },
      "outputs": [],
      "source": [
        "# Crie um DataFrame combinando as duas Séries"
      ]
    },
    {
      "cell_type": "code",
      "execution_count": 6,
      "metadata": {
        "id": "GvlkmBi3XGi1"
      },
      "outputs": [],
      "source": [
        "# Importe o csv \"venda-de-carros.csv\" em visualize o DataFrame"
      ]
    },
    {
      "cell_type": "code",
      "execution_count": 7,
      "metadata": {
        "id": "rI5eHevAXTUB"
      },
      "outputs": [],
      "source": [
        "# Verifique os diferentes tipos de dados do DataFrame"
      ]
    },
    {
      "cell_type": "code",
      "execution_count": 8,
      "metadata": {
        "id": "OE_yasEoXb17"
      },
      "outputs": [],
      "source": [
        "# Verifique as informações estatísticas do DataFrame usando .describe()"
      ]
    },
    {
      "cell_type": "code",
      "execution_count": 9,
      "metadata": {
        "id": "L0aaQ8IFXqWL"
      },
      "outputs": [],
      "source": [
        "# Liste mais informações sobre o DataFrame usando a função info()"
      ]
    },
    {
      "cell_type": "code",
      "execution_count": 10,
      "metadata": {
        "id": "khmCWEnFYHyN"
      },
      "outputs": [],
      "source": [
        "# Liste o nome de todas as colunas do DataFrame"
      ]
    },
    {
      "cell_type": "code",
      "execution_count": 11,
      "metadata": {
        "id": "JxAGoawHYM3w"
      },
      "outputs": [],
      "source": [
        "# Exiba apenas as 5 primeiras linhas do DataFrame"
      ]
    },
    {
      "cell_type": "code",
      "execution_count": 12,
      "metadata": {
        "id": "yBfoLbgJYUr_"
      },
      "outputs": [],
      "source": [
        "# Exiba as 5 últimas linhas do DataFrame"
      ]
    },
    {
      "cell_type": "code",
      "execution_count": 13,
      "metadata": {
        "id": "dUS_98yBYXo8"
      },
      "outputs": [],
      "source": [
        "# Utilize .loc para selecionar os dados da linha de índice 3 do DataFrame"
      ]
    },
    {
      "cell_type": "code",
      "execution_count": 14,
      "metadata": {
        "id": "rSTtiZZMYiKx"
      },
      "outputs": [],
      "source": [
        "# Utilize .iloc para exibir os dados que estão na 5° posição do DataFrame"
      ]
    },
    {
      "cell_type": "code",
      "execution_count": 15,
      "metadata": {
        "id": "GqvHWQgKYs8T"
      },
      "outputs": [],
      "source": [
        "# Selecione a coluna Quilometragem"
      ]
    },
    {
      "cell_type": "code",
      "execution_count": 16,
      "metadata": {
        "id": "ZY07R0fXY5PY"
      },
      "outputs": [],
      "source": [
        "# Calcule a média da coluna Quilometragem"
      ]
    },
    {
      "cell_type": "code",
      "execution_count": 17,
      "metadata": {
        "id": "v2hf7yI0ZB-s"
      },
      "outputs": [],
      "source": [
        "# Liste os carros que possuem uma quilometragem maior que 100.000"
      ]
    },
    {
      "cell_type": "code",
      "execution_count": 18,
      "metadata": {
        "id": "EACSY4tJZJx-"
      },
      "outputs": [],
      "source": [
        "# Agrupe as colunas pelo fabricante e calcule a média das outras colunas"
      ]
    },
    {
      "cell_type": "code",
      "execution_count": 19,
      "metadata": {
        "id": "EPj07W4bZSIt"
      },
      "outputs": [],
      "source": [
        "# Converta a coluna Preco para dados numéricos \"float64\""
      ]
    },
    {
      "cell_type": "code",
      "execution_count": 19,
      "metadata": {
        "id": "xYr1EH-MZr_V"
      },
      "outputs": [],
      "source": []
    }
  ],
  "metadata": {
    "colab": {
      "name": "pandas-exercicios",
      "provenance": []
    },
    "kernelspec": {
      "display_name": "Python 3",
      "name": "python3"
    },
    "language_info": {
      "name": "python"
    }
  },
  "nbformat": 4,
  "nbformat_minor": 0
}
