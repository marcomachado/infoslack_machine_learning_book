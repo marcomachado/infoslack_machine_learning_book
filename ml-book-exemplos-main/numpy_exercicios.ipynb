{
  "nbformat": 4,
  "nbformat_minor": 0,
  "metadata": {
    "colab": {
      "name": "numpy-exercicios",
      "provenance": []
    },
    "kernelspec": {
      "name": "python3",
      "display_name": "Python 3"
    },
    "language_info": {
      "name": "python"
    }
  },
  "cells": [
    {
      "cell_type": "markdown",
      "source": [
        "## Prática\n",
        "\n",
        "Este notebook serve para você praticar o que viu no livro.\n",
        "\n",
        "Pode haver mais de uma maneira diferente de completar um exercício.\n",
        "\n",
        "Os exercícios são baseados no conteúdo do livro.\n",
        "\n",
        "Para mais referências e recursos, fica a sugestão de consultar a [documentação do NumPy.](https://numpy.org/devdocs/user/index.html)"
      ],
      "metadata": {
        "id": "f2YF2M_pcLDO"
      }
    },
    {
      "cell_type": "code",
      "execution_count": 1,
      "metadata": {
        "id": "T9i_C7NRcHg0"
      },
      "outputs": [],
      "source": [
        "# Importe o numpy, utilize a abreviação 'np'"
      ]
    },
    {
      "cell_type": "code",
      "source": [
        "# Utilizando np.array() crie:\n",
        "# 1 array unidimensional \"vetor\"\n",
        "# 1 array de duas dimensões \"matrix\"\n",
        "# 1 array de três dimensões"
      ],
      "metadata": {
        "id": "G7dHzE8PcnO3"
      },
      "execution_count": 2,
      "outputs": []
    },
    {
      "cell_type": "code",
      "source": [
        "# Liste os atributos de todos os arrays criados anteriormente\n",
        "# número de dimensões, tipo de dado, tamanho"
      ],
      "metadata": {
        "id": "1fnZR3yMc6NG"
      },
      "execution_count": 3,
      "outputs": []
    },
    {
      "cell_type": "code",
      "source": [
        "# Crie um array de números 1 de shape (10, 2)"
      ],
      "metadata": {
        "id": "5idGTgc8dGCr"
      },
      "execution_count": 4,
      "outputs": []
    },
    {
      "cell_type": "code",
      "source": [
        "# Crie um array de zeros de shape (5, 4, 3)"
      ],
      "metadata": {
        "id": "xF9j1vXfdQjg"
      },
      "execution_count": 5,
      "outputs": []
    },
    {
      "cell_type": "code",
      "source": [
        "# Crie um array com um range entre 0 e 100 e com step 3"
      ],
      "metadata": {
        "id": "MgvKExKRdV-a"
      },
      "execution_count": 6,
      "outputs": []
    },
    {
      "cell_type": "code",
      "source": [
        "# Crie um array random (com elementos aleatórios) entre 0 e 10 de tamanho (7, 2)"
      ],
      "metadata": {
        "id": "K44xtwvVdhw_"
      },
      "execution_count": 7,
      "outputs": []
    },
    {
      "cell_type": "code",
      "source": [
        "# Crie um array random float com elementos entre 0 e 1 com shape (5, 3)"
      ],
      "metadata": {
        "id": "RzyTNppBdzDB"
      },
      "execution_count": 8,
      "outputs": []
    },
    {
      "cell_type": "code",
      "source": [
        "# Utilize  o seed com valor 42 e crie um array de números aleatórios entre 0 e 10 de tamanho (5, 3)"
      ],
      "metadata": {
        "id": "9S5iob2zd9Ha"
      },
      "execution_count": 9,
      "outputs": []
    },
    {
      "cell_type": "code",
      "source": [
        "# Selecione o primeiro elemento do último array que você criou"
      ],
      "metadata": {
        "id": "tiYVj45FePWD"
      },
      "execution_count": 10,
      "outputs": []
    },
    {
      "cell_type": "code",
      "source": [
        "# Selecione a primeira linha do último array criado"
      ],
      "metadata": {
        "id": "uWgtLoDueil4"
      },
      "execution_count": 11,
      "outputs": []
    },
    {
      "cell_type": "code",
      "source": [
        "# Selecione do primeiro até o quarto elemento da primeira linha do último array criado"
      ],
      "metadata": {
        "id": "dyRNHEaceoDT"
      },
      "execution_count": 12,
      "outputs": []
    },
    {
      "cell_type": "code",
      "source": [
        "# Crie um novo array usando 'ones' com shape (3, 5)"
      ],
      "metadata": {
        "id": "lSlQzj1OevrY"
      },
      "execution_count": 13,
      "outputs": []
    },
    {
      "cell_type": "code",
      "source": [
        "# Subtraia o novo array de outro com dados aleatórios e armazene o resultado em uma variável chamada 'matrix'"
      ],
      "metadata": {
        "id": "l2lpKJf3UEgM"
      },
      "execution_count": 14,
      "outputs": []
    },
    {
      "cell_type": "code",
      "source": [
        "# Encontre a média usando 'np.mean()' do valores no novo array chamado 'matrix'"
      ],
      "metadata": {
        "id": "pWZJmO-uUT6b"
      },
      "execution_count": 15,
      "outputs": []
    },
    {
      "cell_type": "code",
      "source": [
        "# Faça a transposição da 'matrix', usando o método '.T'"
      ],
      "metadata": {
        "id": "5kjMnGZzUj4a"
      },
      "execution_count": 16,
      "outputs": []
    }
  ]
}